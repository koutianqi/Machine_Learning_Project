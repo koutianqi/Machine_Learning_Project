{
 "cells": [
  {
   "cell_type": "markdown",
   "metadata": {},
   "source": [
    "# Gaussian Mixture Model\n",
    "\n",
    "## Resampling: SMOTE\n",
    "## Data: df3_grouped\n",
    "\n",
    "conda install -c glemaitre imbalanced-learn \n",
    "\n",
    "\n",
    "conda update scikit-learn"
   ]
  },
  {
   "cell_type": "code",
   "execution_count": 5,
   "metadata": {},
   "outputs": [
    {
     "name": "stdout",
     "output_type": "stream",
     "text": [
      "The scikit-learn version is 0.19.1.\n"
     ]
    }
   ],
   "source": [
    "from sklearn import __version__ \n",
    "print('The scikit-learn version is {}.'.format(__version__))"
   ]
  },
  {
   "cell_type": "code",
   "execution_count": 6,
   "metadata": {
    "collapsed": true
   },
   "outputs": [],
   "source": [
    "import pandas as pd, numpy as np #basic package\n",
    "\n",
    "from scipy import stats\n",
    "from sklearn import preprocessing\n",
    "\n",
    "from sklearn.naive_bayes import GaussianNB\n",
    "from sklearn.naive_bayes import BernoulliNB\n",
    "\n",
    "from sklearn.mixture import GaussianMixture\n",
    "from sklearn.mixture import BayesianGaussianMixture\n",
    "from sklearn.mixture import GMM\n",
    "\n",
    "from sklearn.model_selection import train_test_split\n",
    "from sklearn.feature_selection import RFE\n",
    "\n",
    "from sklearn.metrics import accuracy_score, precision_score, log_loss, confusion_matrix\n",
    "\n",
    "from sklearn.utils import resample # resample\n",
    "\n",
    "from imblearn.over_sampling import SMOTE\n",
    "\n",
    "from matplotlib import pyplot as plt\n"
   ]
  },
  {
   "cell_type": "markdown",
   "metadata": {},
   "source": [
    "## Import Data and Define Global Variables"
   ]
  },
  {
   "cell_type": "code",
   "execution_count": 7,
   "metadata": {},
   "outputs": [
    {
     "data": {
      "text/html": [
       "<div>\n",
       "<style>\n",
       "    .dataframe thead tr:only-child th {\n",
       "        text-align: right;\n",
       "    }\n",
       "\n",
       "    .dataframe thead th {\n",
       "        text-align: left;\n",
       "    }\n",
       "\n",
       "    .dataframe tbody tr th {\n",
       "        vertical-align: top;\n",
       "    }\n",
       "</style>\n",
       "<table border=\"1\" class=\"dataframe\">\n",
       "  <thead>\n",
       "    <tr style=\"text-align: right;\">\n",
       "      <th></th>\n",
       "      <th>time_in_hospital</th>\n",
       "      <th>num_lab_procedures</th>\n",
       "      <th>num_procedures</th>\n",
       "      <th>num_medications</th>\n",
       "      <th>number_outpatient</th>\n",
       "      <th>number_emergency</th>\n",
       "      <th>number_inpatient</th>\n",
       "      <th>number_diagnoses</th>\n",
       "      <th>race_AfricanAmerican</th>\n",
       "      <th>race_Asian</th>\n",
       "      <th>...</th>\n",
       "      <th>insulin_Up</th>\n",
       "      <th>glyburide-metformin_Down</th>\n",
       "      <th>glyburide-metformin_No</th>\n",
       "      <th>glyburide-metformin_Steady</th>\n",
       "      <th>glyburide-metformin_Up</th>\n",
       "      <th>change_Ch</th>\n",
       "      <th>change_No</th>\n",
       "      <th>diabetesMed_No</th>\n",
       "      <th>diabetesMed_Yes</th>\n",
       "      <th>readmitted</th>\n",
       "    </tr>\n",
       "  </thead>\n",
       "  <tbody>\n",
       "    <tr>\n",
       "      <th>0</th>\n",
       "      <td>0.024369</td>\n",
       "      <td>0.999109</td>\n",
       "      <td>0.000000</td>\n",
       "      <td>0.024369</td>\n",
       "      <td>0.000000</td>\n",
       "      <td>0.0</td>\n",
       "      <td>0.000000</td>\n",
       "      <td>0.024369</td>\n",
       "      <td>0</td>\n",
       "      <td>0</td>\n",
       "      <td>...</td>\n",
       "      <td>0</td>\n",
       "      <td>0</td>\n",
       "      <td>1</td>\n",
       "      <td>0</td>\n",
       "      <td>0</td>\n",
       "      <td>0</td>\n",
       "      <td>1</td>\n",
       "      <td>1</td>\n",
       "      <td>0</td>\n",
       "      <td>0</td>\n",
       "    </tr>\n",
       "    <tr>\n",
       "      <th>1</th>\n",
       "      <td>0.048069</td>\n",
       "      <td>0.945362</td>\n",
       "      <td>0.000000</td>\n",
       "      <td>0.288416</td>\n",
       "      <td>0.000000</td>\n",
       "      <td>0.0</td>\n",
       "      <td>0.000000</td>\n",
       "      <td>0.144208</td>\n",
       "      <td>0</td>\n",
       "      <td>0</td>\n",
       "      <td>...</td>\n",
       "      <td>1</td>\n",
       "      <td>0</td>\n",
       "      <td>1</td>\n",
       "      <td>0</td>\n",
       "      <td>0</td>\n",
       "      <td>1</td>\n",
       "      <td>0</td>\n",
       "      <td>0</td>\n",
       "      <td>1</td>\n",
       "      <td>0</td>\n",
       "    </tr>\n",
       "    <tr>\n",
       "      <th>2</th>\n",
       "      <td>0.105409</td>\n",
       "      <td>0.579751</td>\n",
       "      <td>0.263523</td>\n",
       "      <td>0.685160</td>\n",
       "      <td>0.105409</td>\n",
       "      <td>0.0</td>\n",
       "      <td>0.052705</td>\n",
       "      <td>0.316228</td>\n",
       "      <td>1</td>\n",
       "      <td>0</td>\n",
       "      <td>...</td>\n",
       "      <td>0</td>\n",
       "      <td>0</td>\n",
       "      <td>1</td>\n",
       "      <td>0</td>\n",
       "      <td>0</td>\n",
       "      <td>0</td>\n",
       "      <td>1</td>\n",
       "      <td>0</td>\n",
       "      <td>1</td>\n",
       "      <td>0</td>\n",
       "    </tr>\n",
       "    <tr>\n",
       "      <th>3</th>\n",
       "      <td>0.042201</td>\n",
       "      <td>0.928427</td>\n",
       "      <td>0.021101</td>\n",
       "      <td>0.337610</td>\n",
       "      <td>0.000000</td>\n",
       "      <td>0.0</td>\n",
       "      <td>0.000000</td>\n",
       "      <td>0.147704</td>\n",
       "      <td>0</td>\n",
       "      <td>0</td>\n",
       "      <td>...</td>\n",
       "      <td>1</td>\n",
       "      <td>0</td>\n",
       "      <td>1</td>\n",
       "      <td>0</td>\n",
       "      <td>0</td>\n",
       "      <td>1</td>\n",
       "      <td>0</td>\n",
       "      <td>0</td>\n",
       "      <td>1</td>\n",
       "      <td>0</td>\n",
       "    </tr>\n",
       "    <tr>\n",
       "      <th>4</th>\n",
       "      <td>0.019277</td>\n",
       "      <td>0.983135</td>\n",
       "      <td>0.000000</td>\n",
       "      <td>0.154217</td>\n",
       "      <td>0.000000</td>\n",
       "      <td>0.0</td>\n",
       "      <td>0.000000</td>\n",
       "      <td>0.096386</td>\n",
       "      <td>0</td>\n",
       "      <td>0</td>\n",
       "      <td>...</td>\n",
       "      <td>0</td>\n",
       "      <td>0</td>\n",
       "      <td>1</td>\n",
       "      <td>0</td>\n",
       "      <td>0</td>\n",
       "      <td>1</td>\n",
       "      <td>0</td>\n",
       "      <td>0</td>\n",
       "      <td>1</td>\n",
       "      <td>0</td>\n",
       "    </tr>\n",
       "  </tbody>\n",
       "</table>\n",
       "<p>5 rows × 255 columns</p>\n",
       "</div>"
      ],
      "text/plain": [
       "   time_in_hospital  num_lab_procedures  num_procedures  num_medications  \\\n",
       "0          0.024369            0.999109        0.000000         0.024369   \n",
       "1          0.048069            0.945362        0.000000         0.288416   \n",
       "2          0.105409            0.579751        0.263523         0.685160   \n",
       "3          0.042201            0.928427        0.021101         0.337610   \n",
       "4          0.019277            0.983135        0.000000         0.154217   \n",
       "\n",
       "   number_outpatient  number_emergency  number_inpatient  number_diagnoses  \\\n",
       "0           0.000000               0.0          0.000000          0.024369   \n",
       "1           0.000000               0.0          0.000000          0.144208   \n",
       "2           0.105409               0.0          0.052705          0.316228   \n",
       "3           0.000000               0.0          0.000000          0.147704   \n",
       "4           0.000000               0.0          0.000000          0.096386   \n",
       "\n",
       "   race_AfricanAmerican  race_Asian     ...      insulin_Up  \\\n",
       "0                     0           0     ...               0   \n",
       "1                     0           0     ...               1   \n",
       "2                     1           0     ...               0   \n",
       "3                     0           0     ...               1   \n",
       "4                     0           0     ...               0   \n",
       "\n",
       "   glyburide-metformin_Down  glyburide-metformin_No  \\\n",
       "0                         0                       1   \n",
       "1                         0                       1   \n",
       "2                         0                       1   \n",
       "3                         0                       1   \n",
       "4                         0                       1   \n",
       "\n",
       "   glyburide-metformin_Steady  glyburide-metformin_Up  change_Ch  change_No  \\\n",
       "0                           0                       0          0          1   \n",
       "1                           0                       0          1          0   \n",
       "2                           0                       0          0          1   \n",
       "3                           0                       0          1          0   \n",
       "4                           0                       0          1          0   \n",
       "\n",
       "   diabetesMed_No  diabetesMed_Yes  readmitted  \n",
       "0               1                0           0  \n",
       "1               0                1           0  \n",
       "2               0                1           0  \n",
       "3               0                1           0  \n",
       "4               0                1           0  \n",
       "\n",
       "[5 rows x 255 columns]"
      ]
     },
     "execution_count": 7,
     "metadata": {},
     "output_type": "execute_result"
    }
   ],
   "source": [
    "df = pd.read_csv(\"data_folder/df3_grouped.csv\", index_col = 0)\n",
    "df.head()"
   ]
  },
  {
   "cell_type": "code",
   "execution_count": 9,
   "metadata": {},
   "outputs": [],
   "source": [
    "X = df.iloc[:,:-1]\n",
    "y = df.iloc[:,-1]"
   ]
  },
  {
   "cell_type": "code",
   "execution_count": 10,
   "metadata": {},
   "outputs": [
    {
     "data": {
      "text/plain": [
       "255"
      ]
     },
     "execution_count": 10,
     "metadata": {},
     "output_type": "execute_result"
    }
   ],
   "source": [
    "len(df.columns)"
   ]
  },
  {
   "cell_type": "markdown",
   "metadata": {},
   "source": [
    "# Resample"
   ]
  },
  {
   "cell_type": "code",
   "execution_count": 11,
   "metadata": {},
   "outputs": [
    {
     "data": {
      "text/plain": [
       "0    90409\n",
       "1    11357\n",
       "Name: readmitted, dtype: int64"
      ]
     },
     "execution_count": 11,
     "metadata": {},
     "output_type": "execute_result"
    }
   ],
   "source": [
    "pd.Series(y).value_counts()"
   ]
  },
  {
   "cell_type": "markdown",
   "metadata": {},
   "source": [
    "# SMOTE"
   ]
  },
  {
   "cell_type": "code",
   "execution_count": 12,
   "metadata": {
    "collapsed": true
   },
   "outputs": [],
   "source": [
    "X_train, X_test, y_train, y_test = train_test_split(X, y, test_size=0.3, random_state = 42)"
   ]
  },
  {
   "cell_type": "code",
   "execution_count": 13,
   "metadata": {
    "collapsed": true
   },
   "outputs": [],
   "source": [
    "sm = SMOTE(random_state=42)\n",
    "X_train, y_train = sm.fit_sample(X_train, y_train)"
   ]
  },
  {
   "cell_type": "code",
   "execution_count": 14,
   "metadata": {},
   "outputs": [
    {
     "data": {
      "text/plain": [
       "1    63304\n",
       "0    63304\n",
       "dtype: int64"
      ]
     },
     "execution_count": 14,
     "metadata": {},
     "output_type": "execute_result"
    }
   ],
   "source": [
    "pd.Series(y_train).value_counts()"
   ]
  },
  {
   "cell_type": "code",
   "execution_count": 15,
   "metadata": {
    "collapsed": true
   },
   "outputs": [],
   "source": [
    "gmm = GaussianMixture(n_components=2, covariance_type='full').fit(X_train)\n",
    "\n",
    "plt.scatter(X.iloc[:,0], X.iloc[:, 1], s = 1)\n",
    "\n",
    "centers = np.empty(shape=(gmm.n_components, X.shape[1]))"
   ]
  },
  {
   "cell_type": "markdown",
   "metadata": {},
   "source": [
    "# Centroids"
   ]
  },
  {
   "cell_type": "code",
   "execution_count": 16,
   "metadata": {
    "collapsed": true
   },
   "outputs": [],
   "source": [
    "Centroids = pd.DataFrame(centers)"
   ]
  },
  {
   "cell_type": "code",
   "execution_count": 17,
   "metadata": {
    "collapsed": true
   },
   "outputs": [],
   "source": [
    "Centroids.columns = X.columns"
   ]
  },
  {
   "cell_type": "code",
   "execution_count": 18,
   "metadata": {},
   "outputs": [
    {
     "data": {
      "text/html": [
       "<div>\n",
       "<style>\n",
       "    .dataframe thead tr:only-child th {\n",
       "        text-align: right;\n",
       "    }\n",
       "\n",
       "    .dataframe thead th {\n",
       "        text-align: left;\n",
       "    }\n",
       "\n",
       "    .dataframe tbody tr th {\n",
       "        vertical-align: top;\n",
       "    }\n",
       "</style>\n",
       "<table border=\"1\" class=\"dataframe\">\n",
       "  <thead>\n",
       "    <tr style=\"text-align: right;\">\n",
       "      <th></th>\n",
       "      <th>time_in_hospital</th>\n",
       "      <th>num_lab_procedures</th>\n",
       "      <th>num_procedures</th>\n",
       "      <th>num_medications</th>\n",
       "      <th>number_outpatient</th>\n",
       "      <th>number_emergency</th>\n",
       "      <th>number_inpatient</th>\n",
       "      <th>number_diagnoses</th>\n",
       "      <th>race_AfricanAmerican</th>\n",
       "      <th>race_Asian</th>\n",
       "      <th>...</th>\n",
       "      <th>insulin_Steady</th>\n",
       "      <th>insulin_Up</th>\n",
       "      <th>glyburide-metformin_Down</th>\n",
       "      <th>glyburide-metformin_No</th>\n",
       "      <th>glyburide-metformin_Steady</th>\n",
       "      <th>glyburide-metformin_Up</th>\n",
       "      <th>change_Ch</th>\n",
       "      <th>change_No</th>\n",
       "      <th>diabetesMed_No</th>\n",
       "      <th>diabetesMed_Yes</th>\n",
       "    </tr>\n",
       "  </thead>\n",
       "  <tbody>\n",
       "    <tr>\n",
       "      <th>0</th>\n",
       "      <td>0.000000e+00</td>\n",
       "      <td>7.748604e-304</td>\n",
       "      <td>0.0</td>\n",
       "      <td>7.748604e-304</td>\n",
       "      <td>7.748604e-304</td>\n",
       "      <td>7.748604e-304</td>\n",
       "      <td>7.748604e-304</td>\n",
       "      <td>7.748604e-304</td>\n",
       "      <td>7.748604e-304</td>\n",
       "      <td>7.748604e-304</td>\n",
       "      <td>...</td>\n",
       "      <td>7.748604e-304</td>\n",
       "      <td>7.748604e-304</td>\n",
       "      <td>7.748604e-304</td>\n",
       "      <td>7.748604e-304</td>\n",
       "      <td>7.748604e-304</td>\n",
       "      <td>7.748604e-304</td>\n",
       "      <td>7.748604e-304</td>\n",
       "      <td>7.748604e-304</td>\n",
       "      <td>7.748604e-304</td>\n",
       "      <td>7.748604e-304</td>\n",
       "    </tr>\n",
       "    <tr>\n",
       "      <th>1</th>\n",
       "      <td>7.748604e-304</td>\n",
       "      <td>7.748604e-304</td>\n",
       "      <td>0.0</td>\n",
       "      <td>7.748604e-304</td>\n",
       "      <td>0.000000e+00</td>\n",
       "      <td>7.748604e-304</td>\n",
       "      <td>7.748604e-304</td>\n",
       "      <td>7.748604e-304</td>\n",
       "      <td>7.748604e-304</td>\n",
       "      <td>7.748604e-304</td>\n",
       "      <td>...</td>\n",
       "      <td>7.748604e-304</td>\n",
       "      <td>7.748604e-304</td>\n",
       "      <td>7.748604e-304</td>\n",
       "      <td>7.748604e-304</td>\n",
       "      <td>7.748604e-304</td>\n",
       "      <td>7.748604e-304</td>\n",
       "      <td>7.748604e-304</td>\n",
       "      <td>7.748604e-304</td>\n",
       "      <td>7.748604e-304</td>\n",
       "      <td>7.748604e-304</td>\n",
       "    </tr>\n",
       "  </tbody>\n",
       "</table>\n",
       "<p>2 rows × 254 columns</p>\n",
       "</div>"
      ],
      "text/plain": [
       "   time_in_hospital  num_lab_procedures  num_procedures  num_medications  \\\n",
       "0      0.000000e+00       7.748604e-304             0.0    7.748604e-304   \n",
       "1     7.748604e-304       7.748604e-304             0.0    7.748604e-304   \n",
       "\n",
       "   number_outpatient  number_emergency  number_inpatient  number_diagnoses  \\\n",
       "0      7.748604e-304     7.748604e-304     7.748604e-304     7.748604e-304   \n",
       "1       0.000000e+00     7.748604e-304     7.748604e-304     7.748604e-304   \n",
       "\n",
       "   race_AfricanAmerican     race_Asian       ...         insulin_Steady  \\\n",
       "0         7.748604e-304  7.748604e-304       ...          7.748604e-304   \n",
       "1         7.748604e-304  7.748604e-304       ...          7.748604e-304   \n",
       "\n",
       "      insulin_Up  glyburide-metformin_Down  glyburide-metformin_No  \\\n",
       "0  7.748604e-304             7.748604e-304           7.748604e-304   \n",
       "1  7.748604e-304             7.748604e-304           7.748604e-304   \n",
       "\n",
       "   glyburide-metformin_Steady  glyburide-metformin_Up      change_Ch  \\\n",
       "0               7.748604e-304           7.748604e-304  7.748604e-304   \n",
       "1               7.748604e-304           7.748604e-304  7.748604e-304   \n",
       "\n",
       "       change_No  diabetesMed_No  diabetesMed_Yes  \n",
       "0  7.748604e-304   7.748604e-304    7.748604e-304  \n",
       "1  7.748604e-304   7.748604e-304    7.748604e-304  \n",
       "\n",
       "[2 rows x 254 columns]"
      ]
     },
     "execution_count": 18,
     "metadata": {},
     "output_type": "execute_result"
    }
   ],
   "source": [
    "Centroids"
   ]
  },
  {
   "cell_type": "code",
   "execution_count": 37,
   "metadata": {},
   "outputs": [],
   "source": [
    "GMM_Top_Features = pd.DataFrame(abs(Centroids.iloc[0,:] - Centroids.iloc[1,:])).sort_values(0, ascending = False)"
   ]
  },
  {
   "cell_type": "code",
   "execution_count": 40,
   "metadata": {},
   "outputs": [],
   "source": [
    "GMM_Top_21 = GMM_Top_Features.head(21)"
   ]
  },
  {
   "cell_type": "code",
   "execution_count": 50,
   "metadata": {
    "collapsed": true
   },
   "outputs": [],
   "source": [
    "GMM_Top_21.to_csv(\"GMM_Top_21.csv\")"
   ]
  },
  {
   "cell_type": "markdown",
   "metadata": {},
   "source": [
    "### Save centroids to csv"
   ]
  },
  {
   "cell_type": "markdown",
   "metadata": {},
   "source": [
    "Centroids.to_csv(\"Centroids_GMM_df3.csv\")"
   ]
  },
  {
   "cell_type": "code",
   "execution_count": 20,
   "metadata": {
    "collapsed": true
   },
   "outputs": [],
   "source": [
    "for i in range(gmm.n_components):\n",
    "    density = stats.multivariate_normal(cov=gmm.covariances_[i], mean=gmm.means_[i],  allow_singular=True).logpdf(X_train)\n",
    "    centers[i, :] = X_train[np.argmax(density)]"
   ]
  },
  {
   "cell_type": "code",
   "execution_count": 49,
   "metadata": {},
   "outputs": [
    {
     "data": {
      "text/plain": [
       "<matplotlib.figure.Figure at 0x1a24025710>"
      ]
     },
     "metadata": {},
     "output_type": "display_data"
    },
    {
     "data": {
      "image/png": "[encoded data removed]",
      "text/plain": [
       "<matplotlib.figure.Figure at 0x1a24162358>"
      ]
     },
     "metadata": {},
     "output_type": "display_data"
    }
   ],
   "source": [
    "fig = plt.figure()\n",
    "plt.scatter(centers[:, 0], centers[:, 1], s=20)\n",
    "plt.show()\n",
    "plt.savefig(\"yo.pdf\")"
   ]
  },
  {
   "cell_type": "code",
   "execution_count": null,
   "metadata": {
    "collapsed": true
   },
   "outputs": [],
   "source": []
  }
 ],
 "metadata": {
  "kernelspec": {
   "display_name": "Python 3",
   "language": "python",
   "name": "python3"
  },
  "language_info": {
   "codemirror_mode": {
    "name": "ipython",
    "version": 3
   },
   "file_extension": ".py",
   "mimetype": "text/x-python",
   "name": "python",
   "nbconvert_exporter": "python",
   "pygments_lexer": "ipython3",
   "version": "3.6.1"
  }
 },
 "nbformat": 4,
 "nbformat_minor": 2
}
